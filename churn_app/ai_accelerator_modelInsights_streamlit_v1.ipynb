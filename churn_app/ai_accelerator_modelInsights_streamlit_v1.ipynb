{
 "cells": [
  {
   "cell_type": "markdown",
   "id": "06a4539f",
   "metadata": {},
   "source": [
    "**Author - Disha Dubey**\n",
    "\n",
    "**Version - V1 - 02/23/2022**\n",
    "\n",
    "Relevant documentation: \n",
    "1. [Datarobot batch predicition API](https://docs.datarobot.com/en/docs/api/reference/batch-prediction-api/index.html)\n",
    "2. [Streamlit](https://docs.streamlit.io/)\n"
   ]
  },
  {
   "cell_type": "markdown",
   "id": "dc64bea3",
   "metadata": {},
   "source": [
    "## Summary"
   ]
  },
  {
   "cell_type": "markdown",
   "id": "9c518ae7",
   "metadata": {},
   "source": [
    "This notebook shows how to build an app presenting Datraobot predictions and explanation fo your business stakeholders. This workflow uses churn prediction use case as an example to build an app using prediction output. \n",
    "\n",
    "Overview of steps:\n",
    "1. Fetch predicitions and prediction explanation from a datarobot deployment (Notebook)\n",
    "2. Save the output of the prediciton as a csv which can then be used as a backend for the streamlit app (Please note that an alternate approach would be to directly request predicitons to DR prediction API and generate predictions on the fly in the app)\n",
    "3. Streamlit_app.py file contains code to generate the frontend of the app which helps user access the churn prediction score and provides information of top churn reason for the population selected by the user"
   ]
  },
  {
   "cell_type": "markdown",
   "id": "e7ec79de",
   "metadata": {},
   "source": [
    "### Import libraries"
   ]
  },
  {
   "cell_type": "code",
   "execution_count": 1,
   "id": "9ffed930",
   "metadata": {},
   "outputs": [],
   "source": [
    "import pandas as pd\n",
    "import numpy as np\n",
    "import datarobot as dr\n",
    "import streamlit as st\n",
    "import requests\n",
    "import json\n"
   ]
  },
  {
   "cell_type": "markdown",
   "id": "3be5674e",
   "metadata": {},
   "source": [
    "### Connect to datarobot"
   ]
  },
  {
   "cell_type": "markdown",
   "id": "ea7e466f",
   "metadata": {},
   "source": [
    "1. In DataRobot, navigate to Developer Tools by clicking on the user icon in the top-right corner. From here you can generate a API Key that you will use to authenticate to DataRobot. You can find more details on creating an API key in the [DataRobot documentation](https://app.datarobot.com/docs/api/api-quickstart/index.html#create-a-datarobot-api-key)\n",
    "\n",
    "2. Determine your DataRobot API Endpoint: the API endpoint will be the same as your DataRobot UI root. Replace {datarobot.example.com} with your deployment endpoint.\n",
    "\n",
    "API endpoint root: https://{datarobot.example.com}/api/v2\n",
    "\n",
    "For users of the AI Cloud platform, the endpoint is https://app.datarobot.com/api/v2\n",
    "\n"
   ]
  },
  {
   "cell_type": "code",
   "execution_count": 3,
   "id": "fb5d4afa",
   "metadata": {},
   "outputs": [
    {
     "data": {
      "text/plain": [
       "<datarobot.rest.RESTClientObject at 0x7fd565aa6670>"
      ]
     },
     "execution_count": 3,
     "metadata": {},
     "output_type": "execute_result"
    }
   ],
   "source": [
    "DATAROBOT_API_TOKEN = '[ENTER YOUR API KEY]'\n",
    "DATAROBOT_ENDPOINT = '[https://{datarobot.example.com}/api/v2]'\n",
    "dr.Client(token=DATAROBOT_API_TOKEN, endpoint=DATAROBOT_ENDPOINT)"
   ]
  },
  {
   "cell_type": "markdown",
   "id": "e0cda22f",
   "metadata": {},
   "source": [
    "## Fetch information about your deployment to make predictions "
   ]
  },
  {
   "cell_type": "markdown",
   "id": "2a34f2b4",
   "metadata": {},
   "source": [
    "To generate predictions on new data using the Prediction API, you need:\n",
    "\n",
    "The model's deployment ID. You can find the ID in the sample code output of the [Deployments > Predictions > Prediction API](https://app.datarobot.com/docs/predictions/realtime/code-py.html) tab (with Interface set to \"API Client\").\n"
   ]
  },
  {
   "cell_type": "code",
   "execution_count": 4,
   "id": "9df022a3",
   "metadata": {},
   "outputs": [],
   "source": [
    "#Get this information from prediction>real time tab of your deployment\n",
    "DEPLOYMENT_ID = 'ENTER YOUR DEPLOYMENT_ID'"
   ]
  },
  {
   "cell_type": "markdown",
   "id": "5e33545f",
   "metadata": {},
   "source": [
    "## Load the scoring data"
   ]
  },
  {
   "cell_type": "markdown",
   "id": "f75a3e6c",
   "metadata": {},
   "source": [
    "This workflow assumes that you have the data to be scored as a csv file saved on your computer"
   ]
  },
  {
   "cell_type": "code",
   "execution_count": 5,
   "id": "5d7ed3b0",
   "metadata": {},
   "outputs": [],
   "source": [
    "#Locate the scoring file \n",
    "scoring_data = pd.read_csv('prediction_data_SHAP.csv')"
   ]
  },
  {
   "cell_type": "code",
   "execution_count": 6,
   "id": "b955d25a",
   "metadata": {},
   "outputs": [
    {
     "name": "stdout",
     "output_type": "stream",
     "text": [
      "Streaming DataFrame as CSV data to DataRobot\n",
      "Created Batch Prediction job ID 63f44acb42a1b29724edc262\n",
      "Waiting for DataRobot to start processing\n",
      "Job has started processing at DataRobot. Streaming results.\n"
     ]
    }
   ],
   "source": [
    "#Create a batch prediction job to get predicitons and explanations\n",
    "job, df = dr.BatchPredictionJob.score_pandas(DEPLOYMENT_ID, scoring_data,max_explanations = 5, passthrough_columns= ['Customer_ID'])"
   ]
  },
  {
   "cell_type": "markdown",
   "id": "ad285179",
   "metadata": {},
   "source": [
    "## Export the predicted file as a csv"
   ]
  },
  {
   "cell_type": "code",
   "execution_count": 8,
   "id": "b9bf3f6d",
   "metadata": {},
   "outputs": [],
   "source": [
    "df.to_csv('prediction_output_SHAP.csv', index=False)"
   ]
  },
  {
   "cell_type": "markdown",
   "id": "3889bc33",
   "metadata": {},
   "source": [
    "## Use the prediction output obtained from Datarobot ('prediction_output_SHAP.csv') as backend data for your streamlit app"
   ]
  },
  {
   "cell_type": "markdown",
   "id": "30b95399",
   "metadata": {},
   "source": [
    "At this point you will navigate to the streamlit_app.py file to make modifications based on your prediction dataset and then run the streamlit code below to test your app"
   ]
  },
  {
   "cell_type": "code",
   "execution_count": null,
   "id": "80bf98e1",
   "metadata": {},
   "outputs": [],
   "source": [
    "!streamlit run streamlit_app.py"
   ]
  }
 ],
 "metadata": {
  "kernelspec": {
   "display_name": "Python 3",
   "language": "python",
   "name": "python3"
  },
  "language_info": {
   "codemirror_mode": {
    "name": "ipython",
    "version": 3
   },
   "file_extension": ".py",
   "mimetype": "text/x-python",
   "name": "python",
   "nbconvert_exporter": "python",
   "pygments_lexer": "ipython3",
   "version": "3.8.8"
  }
 },
 "nbformat": 4,
 "nbformat_minor": 5
}
